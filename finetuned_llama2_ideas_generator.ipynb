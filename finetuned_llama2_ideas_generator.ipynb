{
 "cells": [
  {
   "cell_type": "code",
   "execution_count": 1,
   "metadata": {},
   "outputs": [
    {
     "name": "stderr",
     "output_type": "stream",
     "text": [
      "/users/LaMo/projects/GenAI-p8-hackthon-ideas-generator-model/venv/lib/python3.10/site-packages/tqdm/auto.py:21: TqdmWarning: IProgress not found. Please update jupyter and ipywidgets. See https://ipywidgets.readthedocs.io/en/stable/user_install.html\n",
      "  from .autonotebook import tqdm as notebook_tqdm\n"
     ]
    }
   ],
   "source": [
    "import json\n",
    "# import re\n",
    "import csv\n",
    "from pprint import pprint\n",
    "\n",
    "import pandas as pd\n",
    "import torch\n",
    "from datasets import Dataset, load_dataset\n",
    "from huggingface_hub import notebook_login\n",
    "from peft import LoraConfig, PeftModel\n",
    "from transformers import (\n",
    "    AutoModelForCausalLM,\n",
    "    AutoTokenizer,\n",
    "    BitsAndBytesConfig,\n",
    "    TrainingArguments,\n",
    ")\n",
    "from trl import SFTTrainer\n",
    "\n",
    "DEVICE = \"cuda:0\" if torch.cuda.is_available() else \"cpu\"\n",
    "MODEL_NAME = \"meta-llama/Llama-2-7b-hf\""
   ]
  },
  {
   "cell_type": "code",
   "execution_count": 2,
   "metadata": {},
   "outputs": [
    {
     "name": "stdout",
     "output_type": "stream",
     "text": [
      "CSV file created successfully.\n"
     ]
    }
   ],
   "source": [
    "def json_to_csv(json_file, csv_file):\n",
    "    # Load JSON data\n",
    "    with open(json_file, 'r') as file:\n",
    "        data = json.load(file)\n",
    "\n",
    "    # Define CSV column headers\n",
    "    headers = ['conversation', 'new_ideas']\n",
    "\n",
    "    # Write data to CSV file\n",
    "    with open(csv_file, 'w', newline='', encoding='utf-8') as csvfile:\n",
    "        writer = csv.DictWriter(csvfile, fieldnames=headers)\n",
    "        writer.writeheader()\n",
    "\n",
    "        # Iterate through conversation_list in JSON data\n",
    "        for entry in data['conversation_list']:\n",
    "            conversation = '\\n'.join(entry['conversation']) if 'conversation' in entry else ''\n",
    "            new_ideas = '\\n'.join(entry['new_ideas']) if 'new_ideas' in entry else ''\n",
    "\n",
    "            # Write each row to CSV\n",
    "            writer.writerow({'conversation': conversation, 'new_ideas': new_ideas})\n",
    "            \n",
    "        print(\"CSV file created successfully.\")\n",
    "\n",
    "# # Example usage:\n",
    "# json_file = 'data_train.json'\n",
    "# csv_file = 'data_train.csv'\n",
    "# json_to_csv(json_file, csv_file)\n",
    "# print(\"CSV file created successfully.\")"
   ]
  },
  {
   "cell_type": "code",
   "execution_count": 3,
   "metadata": {},
   "outputs": [],
   "source": [
    "def create_conversation_text(data_point):\n",
    "    conversation = data_point[\"conversation\"]\n",
    "    messages = conversation.split(\" Speaker \")\n",
    "\n",
    "    # Format each message with newline\n",
    "    formatted_conversation = '\\n'.join(messages)\n",
    "\n",
    "    return formatted_conversation"
   ]
  },
  {
   "cell_type": "code",
   "execution_count": 5,
   "metadata": {},
   "outputs": [],
   "source": [
    "def load_model_and_tokenizer():\n",
    "    bnb_config = BitsAndBytesConfig(\n",
    "        load_in_4bit=True,\n",
    "        bnb_4bit_quant_type=\"nf4\",\n",
    "        bnb_4bit_compute_dtype=torch.float16,\n",
    "    )\n",
    "\n",
    "    model = AutoModelForCausalLM.from_pretrained(\n",
    "        MODEL_NAME,\n",
    "        use_safetensors=True,\n",
    "        quantization_config=bnb_config,\n",
    "        trust_remote_code=True,\n",
    "        device_map=\"auto\",\n",
    "    )\n",
    "\n",
    "    tokenizer = AutoTokenizer.from_pretrained(MODEL_NAME)\n",
    "    tokenizer.pad_token = tokenizer.eos_token\n",
    "    tokenizer.padding_side = \"right\"\n",
    "\n",
    "    return model, tokenizer"
   ]
  },
  {
   "cell_type": "code",
   "execution_count": 6,
   "metadata": {},
   "outputs": [
    {
     "name": "stderr",
     "output_type": "stream",
     "text": [
      "Loading checkpoint shards: 100%|██████████| 2/2 [00:02<00:00,  1.23s/it]\n"
     ]
    }
   ],
   "source": [
    "model, tokenizer = load_model_and_tokenizer()"
   ]
  },
  {
   "cell_type": "code",
   "execution_count": 40,
   "metadata": {},
   "outputs": [
    {
     "name": "stderr",
     "output_type": "stream",
     "text": [
      "Generating test split: 4 examples [00:00, 1051.93 examples/s]\n"
     ]
    },
    {
     "data": {
      "text/plain": [
       "DatasetDict({\n",
       "    test: Dataset({\n",
       "        features: ['conversation', 'new_ideas'],\n",
       "        num_rows: 4\n",
       "    })\n",
       "})"
      ]
     },
     "execution_count": 40,
     "metadata": {},
     "output_type": "execute_result"
    }
   ],
   "source": [
    "json_to_csv(\"test2.json\", \"test2.csv\")\n",
    "dataset_test = load_dataset(\"csv\", data_files={\"test\": [\"test2.csv\"]})\n",
    "dataset_test"
   ]
  },
  {
   "cell_type": "code",
   "execution_count": 41,
   "metadata": {},
   "outputs": [],
   "source": [
    "DEFAULT_SYSTEM_PROMPT = \"\"\"\n",
    "Act as a debate analyzer, Below is a debate between two or more persons. analyse the discussion and propose some perspectives that haven't been disscused to enhance the debate. the response should be in this format : \" here are some perspectives that haven't been discussed : ...  perspectives ...\"\n",
    "\"\"\".strip()\n",
    "\n",
    "def generate_prompt(\n",
    "    conversation: str, system_prompt: str = DEFAULT_SYSTEM_PROMPT\n",
    ") -> str:\n",
    "    return f\"\"\"\n",
    "### Instruction:\n",
    "{system_prompt}\n",
    "\n",
    "### Input:\n",
    "{conversation.strip()}\n",
    "\n",
    "### Response:\\n\n",
    "\"\"\".strip()"
   ]
  },
  {
   "cell_type": "code",
   "execution_count": 42,
   "metadata": {},
   "outputs": [],
   "source": [
    "def generate_ideas(model, text: str):\n",
    "    inputs = tokenizer(text, return_tensors=\"pt\").to(DEVICE)\n",
    "    inputs_length = len(inputs[\"input_ids\"][0])\n",
    "    with torch.inference_mode():\n",
    "        outputs = model.generate(**inputs, max_new_tokens=256, temperature=0.0001)\n",
    "    return tokenizer.decode(outputs[0][inputs_length:], skip_special_tokens=True)"
   ]
  },
  {
   "cell_type": "code",
   "execution_count": 43,
   "metadata": {},
   "outputs": [
    {
     "data": {
      "text/html": [
       "<div>\n",
       "<style scoped>\n",
       "    .dataframe tbody tr th:only-of-type {\n",
       "        vertical-align: middle;\n",
       "    }\n",
       "\n",
       "    .dataframe tbody tr th {\n",
       "        vertical-align: top;\n",
       "    }\n",
       "\n",
       "    .dataframe thead th {\n",
       "        text-align: right;\n",
       "    }\n",
       "</style>\n",
       "<table border=\"1\" class=\"dataframe\">\n",
       "  <thead>\n",
       "    <tr style=\"text-align: right;\">\n",
       "      <th></th>\n",
       "      <th>conversation</th>\n",
       "      <th>new_ideas</th>\n",
       "      <th>text</th>\n",
       "    </tr>\n",
       "  </thead>\n",
       "  <tbody>\n",
       "    <tr>\n",
       "      <th>0</th>\n",
       "      <td>A: Climate change poses an existential threat ...</td>\n",
       "      <td>None</td>\n",
       "      <td>### Instruction:\\nAct as a debate analyzer, Be...</td>\n",
       "    </tr>\n",
       "    <tr>\n",
       "      <th>1</th>\n",
       "      <td>A: Climate change poses an existential threat ...</td>\n",
       "      <td>None</td>\n",
       "      <td>### Instruction:\\nAct as a debate analyzer, Be...</td>\n",
       "    </tr>\n",
       "    <tr>\n",
       "      <th>2</th>\n",
       "      <td>A: Does the portrayal of historical battles in...</td>\n",
       "      <td>None</td>\n",
       "      <td>### Instruction:\\nAct as a debate analyzer, Be...</td>\n",
       "    </tr>\n",
       "    <tr>\n",
       "      <th>3</th>\n",
       "      <td>A: Les films basés sur des événements réels on...</td>\n",
       "      <td>None</td>\n",
       "      <td>### Instruction:\\nAct as a debate analyzer, Be...</td>\n",
       "    </tr>\n",
       "  </tbody>\n",
       "</table>\n",
       "</div>"
      ],
      "text/plain": [
       "                                        conversation new_ideas  \\\n",
       "0  A: Climate change poses an existential threat ...      None   \n",
       "1  A: Climate change poses an existential threat ...      None   \n",
       "2  A: Does the portrayal of historical battles in...      None   \n",
       "3  A: Les films basés sur des événements réels on...      None   \n",
       "\n",
       "                                                text  \n",
       "0  ### Instruction:\\nAct as a debate analyzer, Be...  \n",
       "1  ### Instruction:\\nAct as a debate analyzer, Be...  \n",
       "2  ### Instruction:\\nAct as a debate analyzer, Be...  \n",
       "3  ### Instruction:\\nAct as a debate analyzer, Be...  "
      ]
     },
     "execution_count": 43,
     "metadata": {},
     "output_type": "execute_result"
    }
   ],
   "source": [
    "examples = []\n",
    "for data_point in dataset_test[\"test\"].select(range(dataset_test[\"test\"].num_rows)):\n",
    "  new_ideas = data_point[\"new_ideas\"]\n",
    "  conversation_text = create_conversation_text(data_point)\n",
    "  examples.append({\n",
    "        \"conversation\": conversation_text,\n",
    "        \"new_ideas\": new_ideas,\n",
    "        \"text\": generate_prompt(conversation_text),\n",
    "    })\n",
    "test_df = pd.DataFrame(examples)\n",
    "test_df"
   ]
  },
  {
   "cell_type": "code",
   "execution_count": null,
   "metadata": {},
   "outputs": [],
   "source": []
  },
  {
   "cell_type": "markdown",
   "metadata": {},
   "source": [
    "### Example 1"
   ]
  },
  {
   "cell_type": "code",
   "execution_count": 17,
   "metadata": {},
   "outputs": [
    {
     "name": "stdout",
     "output_type": "stream",
     "text": [
      "### Instruction:\n",
      "Act as a debate analyzer, Below is a debate between two or more persons. analyse the discussion and propose some perspectives that haven't been disscused to enhance the debate. the response should be in this format : \" here are some perspectives that haven't been discussed : ...  perspectives ...\"\n",
      "\n",
      "### Input:\n",
      "A: Climate change poses an existential threat to humanity, necessitating urgent action to reduce greenhouse gas emissions. Strong environmental regulations are essential for protecting ecosystems, wildlife, and natural resources for future generations.\n",
      "B: understand the concern about climate change, but imposing stringent environmental regulations could harm businesses and hinder economic growth. We need to strike a balance between environmental protection and economic prosperity. Isn't there a risk that excessive regulations could stifle innovation and competitiveness?\n",
      "C: While it's true that businesses may face initial challenges with stricter regulations, the long-term benefits outweigh the short-term costs. By investing in renewable energy and sustainable practices, we can create new job opportunities and stimulate economic growth. Plus, failing to address climate change could lead to far greater economic and social consequences in the future. Don't you think it's crucial to prioritize the health of our planet over short-term economic gains?\n",
      "A: Absolutely, protecting the environment is paramount, but we can't ignore the economic implications. Are there ways to implement environmental regulations that support businesses while still effectively combating climate change?\n",
      "B: That's a valid point. Perhaps we could explore incentive-based approaches, such as tax incentives for companies that reduce their carbon footprint or subsidies for investing in renewable energy. By incentivizing sustainable practices, we can achieve environmental goals without overly burdening businesses. However, we must ensure that these incentives are feasible and effective in achieving meaningful reductions in emissions.\n",
      "C: I agree that incentives can play a crucial role in encouraging environmental responsibility among businesses. However, we also need regulatory frameworks in place to hold companies accountable for their environmental impact. Without enforceable regulations, some businesses may prioritize short-term profits over long-term sustainability. How can we strike the right balance between incentives and regulations to ensure meaningful progress in combating climate change?\n",
      "A: Finding the right balance will indeed be challenging, but it's essential for addressing the urgent threat of climate change. Perhaps we could develop a tiered approach, with basic regulations in place to establish minimum standards for environmental protection, supplemented by incentives for exceeding those standards and adopting innovative solutions. By fostering collaboration between government, businesses, and environmental organizations, we can create a framework that promotes sustainability while supporting economic growth.\n",
      "B: I agree that collaboration and innovation will be key to addressing climate change effectively. By working together and leveraging both regulatory and incentive-based approaches, we can achieve our environmental goals while ensuring continued economic prosperity. It will require commitment and cooperation from all stakeholders, but the future of our planet depends on it.\n",
      "C: Absolutely, the stakes are too high to ignore. By embracing a comprehensive strategy that combines regulations, incentives, and innovation, we can protect our environment for current and future generations. It's time to prioritize sustainability and take decisive action against climate change.\n",
      "\n",
      "### Response:\n"
     ]
    }
   ],
   "source": [
    "example = test_df.iloc[0]\n",
    "print(example.text)"
   ]
  },
  {
   "cell_type": "code",
   "execution_count": 20,
   "metadata": {},
   "outputs": [
    {
     "name": "stdout",
     "output_type": "stream",
     "text": [
      "CPU times: user 10.4 s, sys: 1.85 ms, total: 10.4 s\n",
      "Wall time: 10.4 s\n"
     ]
    }
   ],
   "source": [
    "%%time\n",
    "generated_ideas = generate_ideas(model, example.text)"
   ]
  },
  {
   "cell_type": "code",
   "execution_count": 21,
   "metadata": {},
   "outputs": [
    {
     "name": "stdout",
     "output_type": "stream",
     "text": [
      "[\"Here are some perspectives that haven't been discussed:\",\n",
      " '',\n",
      " '- [ ] Incentives can be effective in encouraging businesses to adopt '\n",
      " 'sustainable practices, but they must be carefully designed to avoid '\n",
      " 'unintended consequences.',\n",
      " '- [ ] Regulations can be an effective tool for holding businesses '\n",
      " 'accountable for their environmental impact, but they must be tailored to the '\n",
      " 'specific needs of each industry.',\n",
      " '- [ ] Collaboration between government, businesses, and environmental '\n",
      " 'organizations can be a powerful tool for addressing climate change, but it '\n",
      " 'must be based on trust and mutual respect.',\n",
      " '- [ ] Innovation can be a powerful tool for addressing climate change, but '\n",
      " 'it must be based on sound scientific evidence and be scalable to meet the '\n",
      " 'needs of a global population.',\n",
      " '- [ ] Education and awareness can be a powerful tool for addressing climate '\n",
      " 'change, but it must be tailored to the specific needs of each community and '\n",
      " 'be based on evidence-based science.',\n",
      " '- [ ] Investment in renewable energy and sustainable practices can be a '\n",
      " 'powerful tool for addressing climate change, but it must be based on sound '\n",
      " 'economic analysis and be tailored to the specific needs of each community.']\n"
     ]
    }
   ],
   "source": [
    "pprint(generated_ideas.strip().split(\"\\n\"))"
   ]
  },
  {
   "cell_type": "markdown",
   "metadata": {},
   "source": [
    "### Example 2"
   ]
  },
  {
   "cell_type": "code",
   "execution_count": 25,
   "metadata": {},
   "outputs": [
    {
     "name": "stdout",
     "output_type": "stream",
     "text": [
      "### Instruction:\n",
      "Act as a debate analyzer, Below is a debate between two or more persons. analyse the discussion and propose some perspectives that haven't been disscused to enhance the debate. the response should be in this format : \" here are some perspectives that haven't been discussed : ...  perspectives ...\"\n",
      "\n",
      "### Input:\n",
      "A: Climate change poses an existential threat to humanity, necessitating urgent action to reduce greenhouse gas emissions. Strong environmental regulations are essential for protecting ecosystems, wildlife, and natural resources for future generations.\n",
      "B: I understand the concern about climate change, but imposing stringent environmental regulations could harm businesses and hinder economic growth. We need to strike a balance between environmental protection and economic prosperity. Isn't there a risk that excessive regulations could stifle innovation and competitiveness?\n",
      "\n",
      "### Response:\n"
     ]
    }
   ],
   "source": [
    "example = test_df.iloc[1]\n",
    "print(example.text)"
   ]
  },
  {
   "cell_type": "code",
   "execution_count": 26,
   "metadata": {},
   "outputs": [
    {
     "name": "stdout",
     "output_type": "stream",
     "text": [
      "CPU times: user 10.3 s, sys: 7.35 ms, total: 10.3 s\n",
      "Wall time: 10.3 s\n"
     ]
    }
   ],
   "source": [
    "%%time\n",
    "generated_ideas = generate_ideas(model, example.text)"
   ]
  },
  {
   "cell_type": "code",
   "execution_count": 27,
   "metadata": {},
   "outputs": [
    {
     "name": "stdout",
     "output_type": "stream",
     "text": [
      "[\"Here are some perspectives that haven't been discussed :\",\n",
      " '',\n",
      " '1. The impact of climate change on humanity is not limited to the future, '\n",
      " 'but is already causing severe damage to ecosystems, wildlife, and natural '\n",
      " 'resources.',\n",
      " '2. Strong environmental regulations are not necessarily harmful to '\n",
      " 'businesses, as they can provide opportunities for innovation and sustainable '\n",
      " 'practices.',\n",
      " '3. Economic growth is not the only measure of success, and environmental '\n",
      " 'protection should be prioritized over short-term gains.',\n",
      " '4. Excessive regulations can stifle innovation and competitiveness, but this '\n",
      " 'can be mitigated through careful planning and implementation.',\n",
      " '',\n",
      " '### Output:',\n",
      " \"Here are some perspectives that haven't been discussed :\",\n",
      " '',\n",
      " '1. The impact of climate change on humanity is not limited to the future, '\n",
      " 'but is already causing severe damage to ecosystems, wildlife, and natural '\n",
      " 'resources.',\n",
      " '2. Strong environmental regulations are not necessarily harmful to '\n",
      " 'businesses, as they can provide opportunities for innovation and sustainable '\n",
      " 'practices.',\n",
      " '3. Economic growth is not the only measure of success, and environmental '\n",
      " 'protection should be priorit']\n"
     ]
    }
   ],
   "source": [
    "pprint(generated_ideas.strip().split(\"\\n\"))"
   ]
  },
  {
   "cell_type": "markdown",
   "metadata": {},
   "source": [
    "### Example 3"
   ]
  },
  {
   "cell_type": "code",
   "execution_count": 28,
   "metadata": {},
   "outputs": [
    {
     "name": "stdout",
     "output_type": "stream",
     "text": [
      "### Instruction:\n",
      "Act as a debate analyzer, Below is a debate between two or more persons. analyse the discussion and propose some perspectives that haven't been disscused to enhance the debate. the response should be in this format : \" here are some perspectives that haven't been discussed : ...  perspectives ...\"\n",
      "\n",
      "### Input:\n",
      "A: Does the portrayal of historical battles in movies glorify war?\n",
      "B: Absolutely. Movies often romanticize and sensationalize warfare, emphasizing heroism and triumph while downplaying the brutality and human cost of conflict.\n",
      "\n",
      "### Response:\n"
     ]
    }
   ],
   "source": [
    "example = test_df.iloc[2]\n",
    "print(example.text)"
   ]
  },
  {
   "cell_type": "code",
   "execution_count": 29,
   "metadata": {},
   "outputs": [
    {
     "name": "stdout",
     "output_type": "stream",
     "text": [
      "CPU times: user 10.3 s, sys: 840 µs, total: 10.3 s\n",
      "Wall time: 10.3 s\n"
     ]
    }
   ],
   "source": [
    "%%time\n",
    "generated_ideas = generate_ideas(model, example.text)"
   ]
  },
  {
   "cell_type": "code",
   "execution_count": 30,
   "metadata": {},
   "outputs": [
    {
     "name": "stdout",
     "output_type": "stream",
     "text": [
      "[\"Here are some perspectives that haven't been discussed :\",\n",
      " '',\n",
      " '1. The portrayal of historical battles in movies can be a valuable tool for '\n",
      " 'teaching history and promoting critical thinking.',\n",
      " '',\n",
      " '2. The portrayal of historical battles in movies can be a source of '\n",
      " 'inspiration and motivation for young people to pursue careers in the '\n",
      " 'military or other fields related to national defense.',\n",
      " '',\n",
      " '3. The portrayal of historical battles in movies can be a source of '\n",
      " 'entertainment and escapism for audiences, providing a sense of adventure and '\n",
      " 'excitement that is not always present in real life.',\n",
      " '',\n",
      " '4. The portrayal of historical battles in movies can be a source of '\n",
      " 'controversy and debate, as some viewers may find the glorification of war to '\n",
      " 'be offensive or inappropriate.',\n",
      " '',\n",
      " '5. The portrayal of historical battles in movies can be a source of '\n",
      " 'inspiration for artists and filmmakers, providing a rich source of material '\n",
      " 'for creative expression.',\n",
      " '',\n",
      " '6. The portrayal of historical battles in movies can be a source of '\n",
      " 'controversy and debate, as some viewers may find the glor']\n"
     ]
    }
   ],
   "source": [
    "pprint(generated_ideas.strip().split(\"\\n\"))"
   ]
  },
  {
   "cell_type": "markdown",
   "metadata": {},
   "source": [
    "### Example 4"
   ]
  },
  {
   "cell_type": "code",
   "execution_count": 44,
   "metadata": {},
   "outputs": [
    {
     "name": "stdout",
     "output_type": "stream",
     "text": [
      "### Instruction:\n",
      "Act as a debate analyzer, Below is a debate between two or more persons. analyse the discussion and propose some perspectives that haven't been disscused to enhance the debate. the response should be in this format : \" here are some perspectives that haven't been discussed : ...  perspectives ...\"\n",
      "\n",
      "### Input:\n",
      "A: Les films basés sur des événements réels ont la responsabilité de représenter avec précision les faits et événements historiques afin d'éduquer et d'informer les spectateurs.\n",
      "B: Je suis d'accord. La fidélité à la vérité historique garantit le respect de l'intégrité des individus et des événements représentés, ainsi que du contexte historique plus large.\n",
      "A: De plus, les inexactitudes ou les distorsions dans les films historiques peuvent perpétuer des mythes, des idées fausses et des stéréotypes, compromettant la compréhension et la mémoire du passé par le public.\n",
      "B: Absolument. Les cinéastes devraient accorder la priorité à l'authenticité et à l'intégrité dans leur narration, en équilibrant la liberté artistique avec les considérations éthiques et le respect de l'exactitude historique.\n",
      "A: Cependant, les cinéastes peuvent être confrontés à des défis dans l'adaptation de récits historiques complexes pour l'écran, notamment le besoin de clarté narrative, de résonance émotionnelle et d'engagement du public.\n",
      "B: Bien que la liberté artistique puisse améliorer la narration, les cinéastes doivent faire preuve de prudence pour éviter de déformer des événements ou des personnages clés, ce qui pourrait perpétuer des désinformations et des distorsions de l'histoire.\n",
      "A: En effet, les cinéastes peuvent utiliser des stratégies créatives, telles que des personnages fictifs ou des récits composites, pour transmettre des vérités et des thèmes plus profonds tout en respectant les faits essentiels et l'intégrité des événements historiques.\n",
      "B: Néanmoins, les cinéastes devraient accorder la priorité à l'authenticité et à la transparence dans leur représentation des événements historiques, en fournissant au public du contexte et des ressources pour distinguer le vrai du faux.\n",
      "A: Équilibrer l'exactitude historique avec l'expression artistique nécessite une recherche minutieuse, une consultation d'experts et un engagement envers une narration éthique qui respecte les complexités et les nuances de l'histoire.\n",
      "B: D'accord. En respectant les lignes directrices éthiques et les meilleures pratiques en matière de réalisation de films historiques, les cinéastes peuvent contribuer à une compréhension plus informée et nuancée du passé, enrichissant le discours public et la mémoire culturelle.\n",
      "\n",
      "### Response:\n"
     ]
    }
   ],
   "source": [
    "example = test_df.iloc[3]\n",
    "print(example.text)"
   ]
  },
  {
   "cell_type": "code",
   "execution_count": 45,
   "metadata": {},
   "outputs": [
    {
     "name": "stdout",
     "output_type": "stream",
     "text": [
      "CPU times: user 10.4 s, sys: 0 ns, total: 10.4 s\n",
      "Wall time: 10.4 s\n"
     ]
    }
   ],
   "source": [
    "%%time\n",
    "generated_ideas = generate_ideas(model, example.text)"
   ]
  },
  {
   "cell_type": "code",
   "execution_count": 46,
   "metadata": {},
   "outputs": [
    {
     "name": "stdout",
     "output_type": "stream",
     "text": [
      "['A: Les films basés sur des événements réels ont la responsabilité de '\n",
      " 'représenter avec précision les faits et événements historiques afin '\n",
      " \"d'éduquer et d'informer les spectateurs.\",\n",
      " \"B: Je suis d'accord. La fidélité à la vérité historique garantit le respect \"\n",
      " \"de l'intégrité des individus et des événements représentés, ainsi que du \"\n",
      " 'contexte historique plus large.',\n",
      " 'A: De plus, les inexactitudes ou les distorsions dans les films historiques '\n",
      " 'peuvent perpétuer des mythes, des idées fausses et des stéréotypes, '\n",
      " 'compromettant la compréhension et la mémoire du passé par le public.',\n",
      " \"B: Absolument. Les cinéastes devraient accorder la priorité à l'authenticité \"\n",
      " \"et à l'intégrité dans leur narration, en équilibrant la liberté artistique \"\n",
      " \"avec les considérations éthiques et le respect de l'exactitude historique.\",\n",
      " 'A: Cependant, les cinéastes peuvent être confrontés à des défis dans '\n",
      " \"l'adaptation de récits historiques\"]\n"
     ]
    }
   ],
   "source": [
    "pprint(generated_ideas.strip().split(\"\\n\"))"
   ]
  }
 ],
 "metadata": {
  "kernelspec": {
   "display_name": "venv",
   "language": "python",
   "name": "python3"
  },
  "language_info": {
   "codemirror_mode": {
    "name": "ipython",
    "version": 3
   },
   "file_extension": ".py",
   "mimetype": "text/x-python",
   "name": "python",
   "nbconvert_exporter": "python",
   "pygments_lexer": "ipython3",
   "version": "3.10.12"
  }
 },
 "nbformat": 4,
 "nbformat_minor": 2
}
